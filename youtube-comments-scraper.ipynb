{
  "nbformat": 4,
  "nbformat_minor": 0,
  "metadata": {
    "colab": {
      "provenance": [],
      "authorship_tag": "ABX9TyPK74njqn39DmSLGOb14SLl",
      "include_colab_link": true
    },
    "kernelspec": {
      "name": "python3",
      "display_name": "Python 3"
    },
    "language_info": {
      "name": "python"
    }
  },
  "cells": [
    {
      "cell_type": "markdown",
      "metadata": {
        "id": "view-in-github",
        "colab_type": "text"
      },
      "source": [
        "<a href=\"https://colab.research.google.com/github/abhishekshah5486/youtube-comment-scraper/blob/main/youtube-comments-scraper.ipynb\" target=\"_parent\"><img src=\"https://colab.research.google.com/assets/colab-badge.svg\" alt=\"Open In Colab\"/></a>"
      ]
    },
    {
      "cell_type": "code",
      "execution_count": null,
      "metadata": {
        "collapsed": true,
        "id": "mR2Cmew5lUPc"
      },
      "outputs": [],
      "source": [
        "!pip install google-api-python-client google-auth\n",
        "!pip install faiss-cpu\n",
        "!pip install sentence-transformers\n",
        "!pip install beautifulsoup4 requests\n",
        "!pip install youtube-comment-downloader\n",
        "\n"
      ]
    },
    {
      "cell_type": "code",
      "source": [
        "from youtube_comment_downloader import YoutubeCommentDownloader\n",
        "\n",
        "def get_youtube_comments(video_url):\n",
        "    downloader = YoutubeCommentDownloader()\n",
        "    comments = []\n",
        "    for comment in downloader.get_comments_from_url(video_url):\n",
        "        comments.append(comment['text'])\n",
        "    return comments\n",
        "\n",
        "def main(video_url):\n",
        "    # Step 1: Get YouTube comments\n",
        "    comments = get_youtube_comments(video_url)\n",
        "    print(f\"Fetched {len(comments)} comments\")\n",
        "\n",
        "    # Save comments to a text file\n",
        "    with open('comments.txt', 'w', encoding='utf-8') as f:\n",
        "        for comment in comments:\n",
        "            f.write(comment + '\\n')\n",
        "    print(\"Comments saved to comments.txt\")\n",
        "\n",
        "# Example usage\n",
        "if __name__ == \"__main__\":\n",
        "    video_url = 'https://www.youtube.com/watch?v=n7Tytq0lQb4'\n",
        "    main(video_url)\n"
      ],
      "metadata": {
        "colab": {
          "base_uri": "https://localhost:8080/"
        },
        "id": "xoOCmC0wn9ZS",
        "outputId": "cdcf576f-8426-4f9b-fa57-130e8279c21d"
      },
      "execution_count": 11,
      "outputs": [
        {
          "output_type": "stream",
          "name": "stdout",
          "text": [
            "Fetched 2736 comments\n",
            "Comments saved to comments.txt\n"
          ]
        }
      ]
    },
    {
      "cell_type": "code",
      "source": [
        "from google.colab import files\n",
        "files.download('comments.txt')\n"
      ],
      "metadata": {
        "colab": {
          "base_uri": "https://localhost:8080/",
          "height": 17
        },
        "id": "6_sxdO2mmgkr",
        "outputId": "f6922cc3-15aa-4208-f8ec-7c495c3886fb"
      },
      "execution_count": 12,
      "outputs": [
        {
          "output_type": "display_data",
          "data": {
            "text/plain": [
              "<IPython.core.display.Javascript object>"
            ],
            "application/javascript": [
              "\n",
              "    async function download(id, filename, size) {\n",
              "      if (!google.colab.kernel.accessAllowed) {\n",
              "        return;\n",
              "      }\n",
              "      const div = document.createElement('div');\n",
              "      const label = document.createElement('label');\n",
              "      label.textContent = `Downloading \"${filename}\": `;\n",
              "      div.appendChild(label);\n",
              "      const progress = document.createElement('progress');\n",
              "      progress.max = size;\n",
              "      div.appendChild(progress);\n",
              "      document.body.appendChild(div);\n",
              "\n",
              "      const buffers = [];\n",
              "      let downloaded = 0;\n",
              "\n",
              "      const channel = await google.colab.kernel.comms.open(id);\n",
              "      // Send a message to notify the kernel that we're ready.\n",
              "      channel.send({})\n",
              "\n",
              "      for await (const message of channel.messages) {\n",
              "        // Send a message to notify the kernel that we're ready.\n",
              "        channel.send({})\n",
              "        if (message.buffers) {\n",
              "          for (const buffer of message.buffers) {\n",
              "            buffers.push(buffer);\n",
              "            downloaded += buffer.byteLength;\n",
              "            progress.value = downloaded;\n",
              "          }\n",
              "        }\n",
              "      }\n",
              "      const blob = new Blob(buffers, {type: 'application/binary'});\n",
              "      const a = document.createElement('a');\n",
              "      a.href = window.URL.createObjectURL(blob);\n",
              "      a.download = filename;\n",
              "      div.appendChild(a);\n",
              "      a.click();\n",
              "      div.remove();\n",
              "    }\n",
              "  "
            ]
          },
          "metadata": {}
        },
        {
          "output_type": "display_data",
          "data": {
            "text/plain": [
              "<IPython.core.display.Javascript object>"
            ],
            "application/javascript": [
              "download(\"download_32212123-0cfd-4619-aba5-0b5221cf0b59\", \"comments.txt\", 266917)"
            ]
          },
          "metadata": {}
        }
      ]
    }
  ]
}